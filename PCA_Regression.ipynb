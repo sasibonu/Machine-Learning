{
 "cells": [
  {
   "cell_type": "code",
   "execution_count": null,
   "metadata": {
    "vscode": {
     "languageId": "r"
    }
   },
   "outputs": [],
   "source": [
    "install.packages()"
   ]
  },
  {
   "cell_type": "markdown",
   "metadata": {},
   "source": [
    "Applying the transformations of PCA to different Machine Learning Models, be it SLR Model or more complex Tree based models, such as XG boost Regression or neural networks.  The idea of PCA is that it's trying to transform your given features inside your feature space to a specific PC space, where it's trying to maximize the variance where you're trying to minimize the number of features that are being utilized to explain such variance"
   ]
  },
  {
   "cell_type": "code",
   "execution_count": 5,
   "metadata": {
    "vscode": {
     "languageId": "r"
    }
   },
   "outputs": [],
   "source": [
    "rm(list = ls())\n",
    "library(Metrics)\n",
    "\n",
    "set.seed(7)"
   ]
  },
  {
   "cell_type": "markdown",
   "metadata": {},
   "source": [
    "Now we predict the life expectancy within each of these values that we are utilizing in our features."
   ]
  },
  {
   "cell_type": "code",
   "execution_count": 4,
   "metadata": {
    "vscode": {
     "languageId": "r"
    }
   },
   "outputs": [
    {
     "name": "stdout",
     "output_type": "stream",
     "text": [
      "'data.frame':\t2938 obs. of  22 variables:\n",
      " $ Country                        : chr  \"Afghanistan\" \"Afghanistan\" \"Afghanistan\" \"Afghanistan\" ...\n",
      " $ Year                           : int  2015 2014 2013 2012 2011 2010 2009 2008 2007 2006 ...\n",
      " $ Status                         : chr  \"Developing\" \"Developing\" \"Developing\" \"Developing\" ...\n",
      " $ Life.expectancy                : num  65 59.9 59.9 59.5 59.2 58.8 58.6 58.1 57.5 57.3 ...\n",
      " $ Adult.Mortality                : int  263 271 268 272 275 279 281 287 295 295 ...\n",
      " $ infant.deaths                  : int  62 64 66 69 71 74 77 80 82 84 ...\n",
      " $ Alcohol                        : num  0.01 0.01 0.01 0.01 0.01 0.01 0.01 0.03 0.02 0.03 ...\n",
      " $ percentage.expenditure         : num  71.3 73.5 73.2 78.2 7.1 ...\n",
      " $ Hepatitis.B                    : int  65 62 64 67 68 66 63 64 63 64 ...\n",
      " $ Measles                        : int  1154 492 430 2787 3013 1989 2861 1599 1141 1990 ...\n",
      " $ BMI                            : num  19.1 18.6 18.1 17.6 17.2 16.7 16.2 15.7 15.2 14.7 ...\n",
      " $ under.five.deaths              : int  83 86 89 93 97 102 106 110 113 116 ...\n",
      " $ Polio                          : int  6 58 62 67 68 66 63 64 63 58 ...\n",
      " $ Total.expenditure              : num  8.16 8.18 8.13 8.52 7.87 9.2 9.42 8.33 6.73 7.43 ...\n",
      " $ Diphtheria                     : int  65 62 64 67 68 66 63 64 63 58 ...\n",
      " $ HIV.AIDS                       : num  0.1 0.1 0.1 0.1 0.1 0.1 0.1 0.1 0.1 0.1 ...\n",
      " $ GDP                            : num  584.3 612.7 631.7 670 63.5 ...\n",
      " $ Population                     : num  33736494 327582 31731688 3696958 2978599 ...\n",
      " $ thinness..1.19.years           : num  17.2 17.5 17.7 17.9 18.2 18.4 18.6 18.8 19 19.2 ...\n",
      " $ thinness.5.9.years             : num  17.3 17.5 17.7 18 18.2 18.4 18.7 18.9 19.1 19.3 ...\n",
      " $ Income.composition.of.resources: num  0.479 0.476 0.47 0.463 0.454 0.448 0.434 0.433 0.415 0.405 ...\n",
      " $ Schooling                      : num  10.1 10 9.9 9.8 9.5 9.2 8.9 8.7 8.4 8.1 ...\n"
     ]
    }
   ],
   "source": [
    "data <- read.csv(\"Life_Expectancy_Data.csv\")\n",
    "#head(data)\n",
    "str(data)"
   ]
  },
  {
   "cell_type": "code",
   "execution_count": 5,
   "metadata": {
    "vscode": {
     "languageId": "r"
    }
   },
   "outputs": [
    {
     "data": {
      "text/plain": [
       "   Country               Year         Status          Life.expectancy\n",
       " Length:2938        Min.   :2000   Length:2938        Min.   :36.30  \n",
       " Class :character   1st Qu.:2004   Class :character   1st Qu.:63.10  \n",
       " Mode  :character   Median :2008   Mode  :character   Median :72.10  \n",
       "                    Mean   :2008                      Mean   :69.22  \n",
       "                    3rd Qu.:2012                      3rd Qu.:75.70  \n",
       "                    Max.   :2015                      Max.   :89.00  \n",
       "                                                      NA's   :10     \n",
       " Adult.Mortality infant.deaths       Alcohol        percentage.expenditure\n",
       " Min.   :  1.0   Min.   :   0.0   Min.   : 0.0100   Min.   :    0.000     \n",
       " 1st Qu.: 74.0   1st Qu.:   0.0   1st Qu.: 0.8775   1st Qu.:    4.685     \n",
       " Median :144.0   Median :   3.0   Median : 3.7550   Median :   64.913     \n",
       " Mean   :164.8   Mean   :  30.3   Mean   : 4.6029   Mean   :  738.251     \n",
       " 3rd Qu.:228.0   3rd Qu.:  22.0   3rd Qu.: 7.7025   3rd Qu.:  441.534     \n",
       " Max.   :723.0   Max.   :1800.0   Max.   :17.8700   Max.   :19479.912     \n",
       " NA's   :10                       NA's   :194                             \n",
       "  Hepatitis.B       Measles              BMI        under.five.deaths\n",
       " Min.   : 1.00   Min.   :     0.0   Min.   : 1.00   Min.   :   0.00  \n",
       " 1st Qu.:77.00   1st Qu.:     0.0   1st Qu.:19.30   1st Qu.:   0.00  \n",
       " Median :92.00   Median :    17.0   Median :43.50   Median :   4.00  \n",
       " Mean   :80.94   Mean   :  2419.6   Mean   :38.32   Mean   :  42.04  \n",
       " 3rd Qu.:97.00   3rd Qu.:   360.2   3rd Qu.:56.20   3rd Qu.:  28.00  \n",
       " Max.   :99.00   Max.   :212183.0   Max.   :87.30   Max.   :2500.00  \n",
       " NA's   :553                        NA's   :34                       \n",
       "     Polio       Total.expenditure   Diphtheria       HIV.AIDS     \n",
       " Min.   : 3.00   Min.   : 0.370    Min.   : 2.00   Min.   : 0.100  \n",
       " 1st Qu.:78.00   1st Qu.: 4.260    1st Qu.:78.00   1st Qu.: 0.100  \n",
       " Median :93.00   Median : 5.755    Median :93.00   Median : 0.100  \n",
       " Mean   :82.55   Mean   : 5.938    Mean   :82.32   Mean   : 1.742  \n",
       " 3rd Qu.:97.00   3rd Qu.: 7.492    3rd Qu.:97.00   3rd Qu.: 0.800  \n",
       " Max.   :99.00   Max.   :17.600    Max.   :99.00   Max.   :50.600  \n",
       " NA's   :19      NA's   :226       NA's   :19                      \n",
       "      GDP              Population        thinness..1.19.years\n",
       " Min.   :     1.68   Min.   :3.400e+01   Min.   : 0.10       \n",
       " 1st Qu.:   463.94   1st Qu.:1.958e+05   1st Qu.: 1.60       \n",
       " Median :  1766.95   Median :1.387e+06   Median : 3.30       \n",
       " Mean   :  7483.16   Mean   :1.275e+07   Mean   : 4.84       \n",
       " 3rd Qu.:  5910.81   3rd Qu.:7.420e+06   3rd Qu.: 7.20       \n",
       " Max.   :119172.74   Max.   :1.294e+09   Max.   :27.70       \n",
       " NA's   :448         NA's   :652         NA's   :34          \n",
       " thinness.5.9.years Income.composition.of.resources   Schooling    \n",
       " Min.   : 0.10      Min.   :0.0000                  Min.   : 0.00  \n",
       " 1st Qu.: 1.50      1st Qu.:0.4930                  1st Qu.:10.10  \n",
       " Median : 3.30      Median :0.6770                  Median :12.30  \n",
       " Mean   : 4.87      Mean   :0.6276                  Mean   :11.99  \n",
       " 3rd Qu.: 7.20      3rd Qu.:0.7790                  3rd Qu.:14.30  \n",
       " Max.   :28.60      Max.   :0.9480                  Max.   :20.70  \n",
       " NA's   :34         NA's   :167                     NA's   :163    "
      ]
     },
     "metadata": {},
     "output_type": "display_data"
    }
   ],
   "source": [
    "summary(data)"
   ]
  },
  {
   "cell_type": "code",
   "execution_count": 6,
   "metadata": {
    "vscode": {
     "languageId": "r"
    }
   },
   "outputs": [
    {
     "data": {
      "text/plain": [
       "   Country               Year         Status          Life.expectancy\n",
       " Length:1649        Min.   :2000   Length:1649        Min.   :44.0   \n",
       " Class :character   1st Qu.:2005   Class :character   1st Qu.:64.4   \n",
       " Mode  :character   Median :2008   Mode  :character   Median :71.7   \n",
       "                    Mean   :2008                      Mean   :69.3   \n",
       "                    3rd Qu.:2011                      3rd Qu.:75.0   \n",
       "                    Max.   :2015                      Max.   :89.0   \n",
       " Adult.Mortality infant.deaths        Alcohol       percentage.expenditure\n",
       " Min.   :  1.0   Min.   :   0.00   Min.   : 0.010   Min.   :    0.00      \n",
       " 1st Qu.: 77.0   1st Qu.:   1.00   1st Qu.: 0.810   1st Qu.:   37.44      \n",
       " Median :148.0   Median :   3.00   Median : 3.790   Median :  145.10      \n",
       " Mean   :168.2   Mean   :  32.55   Mean   : 4.533   Mean   :  698.97      \n",
       " 3rd Qu.:227.0   3rd Qu.:  22.00   3rd Qu.: 7.340   3rd Qu.:  509.39      \n",
       " Max.   :723.0   Max.   :1600.00   Max.   :17.870   Max.   :18961.35      \n",
       "  Hepatitis.B       Measles            BMI        under.five.deaths\n",
       " Min.   : 2.00   Min.   :     0   Min.   : 2.00   Min.   :   0.00  \n",
       " 1st Qu.:74.00   1st Qu.:     0   1st Qu.:19.50   1st Qu.:   1.00  \n",
       " Median :89.00   Median :    15   Median :43.70   Median :   4.00  \n",
       " Mean   :79.22   Mean   :  2224   Mean   :38.13   Mean   :  44.22  \n",
       " 3rd Qu.:96.00   3rd Qu.:   373   3rd Qu.:55.80   3rd Qu.:  29.00  \n",
       " Max.   :99.00   Max.   :131441   Max.   :77.10   Max.   :2100.00  \n",
       "     Polio       Total.expenditure   Diphtheria       HIV.AIDS     \n",
       " Min.   : 3.00   Min.   : 0.740    Min.   : 2.00   Min.   : 0.100  \n",
       " 1st Qu.:81.00   1st Qu.: 4.410    1st Qu.:82.00   1st Qu.: 0.100  \n",
       " Median :93.00   Median : 5.840    Median :92.00   Median : 0.100  \n",
       " Mean   :83.56   Mean   : 5.956    Mean   :84.16   Mean   : 1.984  \n",
       " 3rd Qu.:97.00   3rd Qu.: 7.470    3rd Qu.:97.00   3rd Qu.: 0.700  \n",
       " Max.   :99.00   Max.   :14.390    Max.   :99.00   Max.   :50.600  \n",
       "      GDP              Population        thinness..1.19.years\n",
       " Min.   :     1.68   Min.   :3.400e+01   Min.   : 0.100      \n",
       " 1st Qu.:   462.15   1st Qu.:1.919e+05   1st Qu.: 1.600      \n",
       " Median :  1592.57   Median :1.420e+06   Median : 3.000      \n",
       " Mean   :  5566.03   Mean   :1.465e+07   Mean   : 4.851      \n",
       " 3rd Qu.:  4718.51   3rd Qu.:7.659e+06   3rd Qu.: 7.100      \n",
       " Max.   :119172.74   Max.   :1.294e+09   Max.   :27.200      \n",
       " thinness.5.9.years Income.composition.of.resources   Schooling    \n",
       " Min.   : 0.100     Min.   :0.0000                  Min.   : 4.20  \n",
       " 1st Qu.: 1.700     1st Qu.:0.5090                  1st Qu.:10.30  \n",
       " Median : 3.200     Median :0.6730                  Median :12.30  \n",
       " Mean   : 4.908     Mean   :0.6316                  Mean   :12.12  \n",
       " 3rd Qu.: 7.100     3rd Qu.:0.7510                  3rd Qu.:14.00  \n",
       " Max.   :28.200     Max.   :0.9360                  Max.   :20.70  "
      ]
     },
     "metadata": {},
     "output_type": "display_data"
    }
   ],
   "source": [
    "data <- na.omit(data)\n",
    "summary(data)"
   ]
  },
  {
   "cell_type": "code",
   "execution_count": 10,
   "metadata": {
    "vscode": {
     "languageId": "r"
    }
   },
   "outputs": [
    {
     "name": "stdout",
     "output_type": "stream",
     "text": [
      "'data.frame':\t1649 obs. of  19 variables:\n",
      " $ Life.expectancy                : num  65 59.9 59.9 59.5 59.2 58.8 58.6 58.1 57.5 57.3 ...\n",
      " $ Adult.Mortality                : int  263 271 268 272 275 279 281 287 295 295 ...\n",
      " $ infant.deaths                  : int  62 64 66 69 71 74 77 80 82 84 ...\n",
      " $ Alcohol                        : num  0.01 0.01 0.01 0.01 0.01 0.01 0.01 0.03 0.02 0.03 ...\n",
      " $ percentage.expenditure         : num  71.3 73.5 73.2 78.2 7.1 ...\n",
      " $ Hepatitis.B                    : int  65 62 64 67 68 66 63 64 63 64 ...\n",
      " $ Measles                        : int  1154 492 430 2787 3013 1989 2861 1599 1141 1990 ...\n",
      " $ BMI                            : num  19.1 18.6 18.1 17.6 17.2 16.7 16.2 15.7 15.2 14.7 ...\n",
      " $ under.five.deaths              : int  83 86 89 93 97 102 106 110 113 116 ...\n",
      " $ Polio                          : int  6 58 62 67 68 66 63 64 63 58 ...\n",
      " $ Total.expenditure              : num  8.16 8.18 8.13 8.52 7.87 9.2 9.42 8.33 6.73 7.43 ...\n",
      " $ Diphtheria                     : int  65 62 64 67 68 66 63 64 63 58 ...\n",
      " $ HIV.AIDS                       : num  0.1 0.1 0.1 0.1 0.1 0.1 0.1 0.1 0.1 0.1 ...\n",
      " $ GDP                            : num  584.3 612.7 631.7 670 63.5 ...\n",
      " $ Population                     : num  33736494 327582 31731688 3696958 2978599 ...\n",
      " $ thinness..1.19.years           : num  17.2 17.5 17.7 17.9 18.2 18.4 18.6 18.8 19 19.2 ...\n",
      " $ thinness.5.9.years             : num  17.3 17.5 17.7 18 18.2 18.4 18.7 18.9 19.1 19.3 ...\n",
      " $ Income.composition.of.resources: num  0.479 0.476 0.47 0.463 0.454 0.448 0.434 0.433 0.415 0.405 ...\n",
      " $ Schooling                      : num  10.1 10 9.9 9.8 9.5 9.2 8.9 8.7 8.4 8.1 ...\n"
     ]
    }
   ],
   "source": [
    "drop_class <- c(\"Status\",\"Country\",\"Year\")\n",
    "data <- data[,!(names(data) %in% drop_class)]\n",
    "str(data)"
   ]
  },
  {
   "cell_type": "markdown",
   "metadata": {},
   "source": [
    "By using similar data for training and testing, you can minimize the effects of data discrepancies and better understand the characteristics of the model. After a model has been processed by using the training set, you test the model by making predictions against the test set."
   ]
  },
  {
   "cell_type": "markdown",
   "metadata": {},
   "source": [
    "Set the seed to make your partition reproducible."
   ]
  },
  {
   "cell_type": "code",
   "execution_count": 14,
   "metadata": {
    "vscode": {
     "languageId": "r"
    }
   },
   "outputs": [],
   "source": [
    "idx <- floor(0.70*nrow(data))\n",
    "train_ind <- sample(seq_len(nrow(data)), size = idx)\n",
    "train <- data[train_ind,] #70% training, 1236 observations\n",
    "test <- data[-train_ind,] #30% training, 413 observations"
   ]
  },
  {
   "cell_type": "markdown",
   "metadata": {},
   "source": [
    "Note that we won’t just be removing features based on their significance (backward elimination, but rather we will be taking everything that we have here and judging this model based on all of its given input)."
   ]
  },
  {
   "cell_type": "code",
   "execution_count": 17,
   "metadata": {
    "vscode": {
     "languageId": "r"
    }
   },
   "outputs": [
    {
     "data": {
      "text/plain": [
       "\n",
       "Call:\n",
       "lm(formula = Life.expectancy ~ ., data = train)\n",
       "\n",
       "Residuals:\n",
       "     Min       1Q   Median       3Q      Max \n",
       "-16.8035  -2.1830  -0.0703   2.3236  11.9838 \n",
       "\n",
       "Coefficients:\n",
       "                                  Estimate Std. Error t value Pr(>|t|)    \n",
       "(Intercept)                      5.329e+01  8.762e-01  60.820  < 2e-16 ***\n",
       "Adult.Mortality                 -1.574e-02  1.125e-03 -13.989  < 2e-16 ***\n",
       "infant.deaths                    9.002e-02  1.186e-02   7.592 6.55e-14 ***\n",
       "Alcohol                         -8.307e-02  3.844e-02  -2.161   0.0309 *  \n",
       "percentage.expenditure           3.128e-04  2.409e-04   1.298   0.1944    \n",
       "Hepatitis.B                     -4.714e-03  5.313e-03  -0.887   0.3752    \n",
       "Measles                         -1.182e-05  1.361e-05  -0.869   0.3852    \n",
       "BMI                              3.177e-02  7.155e-03   4.440 9.86e-06 ***\n",
       "under.five.deaths               -6.760e-02  8.594e-03  -7.865 8.52e-15 ***\n",
       "Polio                            6.414e-03  5.943e-03   1.079   0.2807    \n",
       "Total.expenditure                9.890e-02  5.030e-02   1.966   0.0495 *  \n",
       "Diphtheria                       1.391e-02  6.919e-03   2.011   0.0446 *  \n",
       "HIV.AIDS                        -4.619e-01  2.164e-02 -21.346  < 2e-16 ***\n",
       "GDP                              2.573e-05  3.855e-05   0.667   0.5047    \n",
       "Population                       1.011e-10  2.323e-09   0.044   0.9653    \n",
       "thinness..1.19.years            -2.334e-02  5.842e-02  -0.400   0.6895    \n",
       "thinness.5.9.years              -5.306e-02  5.794e-02  -0.916   0.3599    \n",
       "Income.composition.of.resources  9.200e+00  9.886e-01   9.306  < 2e-16 ***\n",
       "Schooling                        9.125e-01  7.117e-02  12.821  < 2e-16 ***\n",
       "---\n",
       "Signif. codes:  0 '***' 0.001 '**' 0.01 '*' 0.05 '.' 0.1 ' ' 1\n",
       "\n",
       "Residual standard error: 3.65 on 1135 degrees of freedom\n",
       "Multiple R-squared:  0.8292,\tAdjusted R-squared:  0.8265 \n",
       "F-statistic: 306.1 on 18 and 1135 DF,  p-value: < 2.2e-16\n"
      ]
     },
     "metadata": {},
     "output_type": "display_data"
    }
   ],
   "source": [
    "#During simple linear regression model to see how well we do \n",
    "\n",
    "simple_lm <- lm(Life.expectancy~., data=train)\n",
    "summary(simple_lm)"
   ]
  },
  {
   "cell_type": "code",
   "execution_count": 18,
   "metadata": {
    "vscode": {
     "languageId": "r"
    }
   },
   "outputs": [],
   "source": [
    "#Loading the library of metrics and using the root mean squared error to judge how well the model is doing.\n",
    "\n",
    "library(Metrics)\n",
    "lm_pred <- predict(simple_lm, test)"
   ]
  },
  {
   "cell_type": "code",
   "execution_count": 20,
   "metadata": {
    "vscode": {
     "languageId": "r"
    }
   },
   "outputs": [
    {
     "data": {
      "text/html": [
       "3.49170531082492"
      ],
      "text/latex": [
       "3.49170531082492"
      ],
      "text/markdown": [
       "3.49170531082492"
      ],
      "text/plain": [
       "[1] 3.491705"
      ]
     },
     "metadata": {},
     "output_type": "display_data"
    }
   ],
   "source": [
    "#Desire to have low RMSE\n",
    "\n",
    "#RMSE is a standard way to measure the error of a model in predicting quantitativ data\n",
    "\n",
    "rmse(actual = test$Life.expectancy, predicted = as.numeric((lm_pred)))"
   ]
  },
  {
   "cell_type": "code",
   "execution_count": null,
   "metadata": {
    "vscode": {
     "languageId": "r"
    }
   },
   "outputs": [],
   "source": []
  }
 ],
 "metadata": {
  "kernelspec": {
   "display_name": "R",
   "language": "R",
   "name": "ir"
  },
  "language_info": {
   "codemirror_mode": "r",
   "file_extension": ".r",
   "mimetype": "text/x-r-source",
   "name": "R",
   "pygments_lexer": "r",
   "version": "4.3.1"
  }
 },
 "nbformat": 4,
 "nbformat_minor": 2
}
