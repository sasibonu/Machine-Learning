{
 "cells": [
  {
   "cell_type": "code",
   "execution_count": 61,
   "id": "35b2ca6f-7686-4f40-b3e9-da6a467d2281",
   "metadata": {},
   "outputs": [],
   "source": [
    "from sklearn.preprocessing import StandardScaler\n",
    "from sklearn.cluster import KMeans\n",
    "import pandas as pd\n",
    "import numpy as np\n",
    "from itertools import cycle, islice\n",
    "import matplotlib as plt\n",
    "from pandas.plotting import parallel_coordinates\n",
    "\n",
    "%matplotlib inline"
   ]
  },
  {
   "cell_type": "markdown",
   "id": "647dc45b-76d8-4447-812f-831c388578cf",
   "metadata": {},
   "source": [
    "### Using Minute-Granularitydata"
   ]
  },
  {
   "cell_type": "code",
   "execution_count": 62,
   "id": "5cc63250-b14c-48a9-9160-0fe238f291b6",
   "metadata": {},
   "outputs": [
    {
     "data": {
      "text/html": [
       "<div>\n",
       "<style scoped>\n",
       "    .dataframe tbody tr th:only-of-type {\n",
       "        vertical-align: middle;\n",
       "    }\n",
       "\n",
       "    .dataframe tbody tr th {\n",
       "        vertical-align: top;\n",
       "    }\n",
       "\n",
       "    .dataframe thead th {\n",
       "        text-align: right;\n",
       "    }\n",
       "</style>\n",
       "<table border=\"1\" class=\"dataframe\">\n",
       "  <thead>\n",
       "    <tr style=\"text-align: right;\">\n",
       "      <th></th>\n",
       "      <th>rowID</th>\n",
       "      <th>hpwren_timestamp</th>\n",
       "      <th>air_pressure</th>\n",
       "      <th>air_temp</th>\n",
       "      <th>avg_wind_direction</th>\n",
       "      <th>avg_wind_speed</th>\n",
       "      <th>max_wind_direction</th>\n",
       "      <th>max_wind_speed</th>\n",
       "      <th>min_wind_direction</th>\n",
       "      <th>min_wind_speed</th>\n",
       "      <th>rain_accumulation</th>\n",
       "      <th>rain_duration</th>\n",
       "      <th>relative_humidity</th>\n",
       "    </tr>\n",
       "  </thead>\n",
       "  <tbody>\n",
       "    <tr>\n",
       "      <th>0</th>\n",
       "      <td>0</td>\n",
       "      <td>2011-09-10 00:00:49</td>\n",
       "      <td>912.3</td>\n",
       "      <td>64.76</td>\n",
       "      <td>97.0</td>\n",
       "      <td>1.2</td>\n",
       "      <td>106.0</td>\n",
       "      <td>1.6</td>\n",
       "      <td>85.0</td>\n",
       "      <td>1.0</td>\n",
       "      <td>NaN</td>\n",
       "      <td>NaN</td>\n",
       "      <td>60.5</td>\n",
       "    </tr>\n",
       "    <tr>\n",
       "      <th>1</th>\n",
       "      <td>1</td>\n",
       "      <td>2011-09-10 00:01:49</td>\n",
       "      <td>912.3</td>\n",
       "      <td>63.86</td>\n",
       "      <td>161.0</td>\n",
       "      <td>0.8</td>\n",
       "      <td>215.0</td>\n",
       "      <td>1.5</td>\n",
       "      <td>43.0</td>\n",
       "      <td>0.2</td>\n",
       "      <td>0.0</td>\n",
       "      <td>0.0</td>\n",
       "      <td>39.9</td>\n",
       "    </tr>\n",
       "    <tr>\n",
       "      <th>2</th>\n",
       "      <td>2</td>\n",
       "      <td>2011-09-10 00:02:49</td>\n",
       "      <td>912.3</td>\n",
       "      <td>64.22</td>\n",
       "      <td>77.0</td>\n",
       "      <td>0.7</td>\n",
       "      <td>143.0</td>\n",
       "      <td>1.2</td>\n",
       "      <td>324.0</td>\n",
       "      <td>0.3</td>\n",
       "      <td>0.0</td>\n",
       "      <td>0.0</td>\n",
       "      <td>43.0</td>\n",
       "    </tr>\n",
       "    <tr>\n",
       "      <th>3</th>\n",
       "      <td>3</td>\n",
       "      <td>2011-09-10 00:03:49</td>\n",
       "      <td>912.3</td>\n",
       "      <td>64.40</td>\n",
       "      <td>89.0</td>\n",
       "      <td>1.2</td>\n",
       "      <td>112.0</td>\n",
       "      <td>1.6</td>\n",
       "      <td>12.0</td>\n",
       "      <td>0.7</td>\n",
       "      <td>0.0</td>\n",
       "      <td>0.0</td>\n",
       "      <td>49.5</td>\n",
       "    </tr>\n",
       "    <tr>\n",
       "      <th>4</th>\n",
       "      <td>4</td>\n",
       "      <td>2011-09-10 00:04:49</td>\n",
       "      <td>912.3</td>\n",
       "      <td>64.40</td>\n",
       "      <td>185.0</td>\n",
       "      <td>0.4</td>\n",
       "      <td>260.0</td>\n",
       "      <td>1.0</td>\n",
       "      <td>100.0</td>\n",
       "      <td>0.1</td>\n",
       "      <td>0.0</td>\n",
       "      <td>0.0</td>\n",
       "      <td>58.8</td>\n",
       "    </tr>\n",
       "  </tbody>\n",
       "</table>\n",
       "</div>"
      ],
      "text/plain": [
       "   rowID     hpwren_timestamp  air_pressure  air_temp  avg_wind_direction  \\\n",
       "0      0  2011-09-10 00:00:49         912.3     64.76                97.0   \n",
       "1      1  2011-09-10 00:01:49         912.3     63.86               161.0   \n",
       "2      2  2011-09-10 00:02:49         912.3     64.22                77.0   \n",
       "3      3  2011-09-10 00:03:49         912.3     64.40                89.0   \n",
       "4      4  2011-09-10 00:04:49         912.3     64.40               185.0   \n",
       "\n",
       "   avg_wind_speed  max_wind_direction  max_wind_speed  min_wind_direction  \\\n",
       "0             1.2               106.0             1.6                85.0   \n",
       "1             0.8               215.0             1.5                43.0   \n",
       "2             0.7               143.0             1.2               324.0   \n",
       "3             1.2               112.0             1.6                12.0   \n",
       "4             0.4               260.0             1.0               100.0   \n",
       "\n",
       "   min_wind_speed  rain_accumulation  rain_duration  relative_humidity  \n",
       "0             1.0                NaN            NaN               60.5  \n",
       "1             0.2                0.0            0.0               39.9  \n",
       "2             0.3                0.0            0.0               43.0  \n",
       "3             0.7                0.0            0.0               49.5  \n",
       "4             0.1                0.0            0.0               58.8  "
      ]
     },
     "execution_count": 62,
     "metadata": {},
     "output_type": "execute_result"
    }
   ],
   "source": [
    "D = pd.read_csv('minute_weather.csv')\n",
    "D.head()"
   ]
  },
  {
   "cell_type": "markdown",
   "id": "9735541d-aebe-4812-a4ce-de42a8d79414",
   "metadata": {},
   "source": [
    "### Data Sampling"
   ]
  },
  {
   "cell_type": "code",
   "execution_count": 63,
   "id": "77cd6e95-c870-478b-a844-37bf122de1e4",
   "metadata": {},
   "outputs": [
    {
     "data": {
      "text/plain": [
       "(158726, 13)"
      ]
     },
     "execution_count": 63,
     "metadata": {},
     "output_type": "execute_result"
    }
   ],
   "source": [
    "# goal here is to find patterns and trends in our dataset under specific considerations.\n",
    "\n",
    "# take  every 10th row \n",
    "\n",
    "sample_df = D[(D['rowID']%10)==0]\n",
    "sample_df.shape"
   ]
  },
  {
   "cell_type": "code",
   "execution_count": 64,
   "id": "37f8e24c-3203-4ca9-bb97-4b89dd078c4a",
   "metadata": {},
   "outputs": [
    {
     "name": "stdout",
     "output_type": "stream",
     "text": [
      "No of rows deleted: 46\n"
     ]
    }
   ],
   "source": [
    "# Drop all rows with missing values\n",
    "\n",
    "del sample_df['rain_accumulation']\n",
    "del sample_df['rain_duration']\n",
    "\n",
    "B = sample_df.shape[0]\n",
    "sample_df = sample_df.dropna()\n",
    "A = sample_df.shape[0]\n",
    "\n",
    "\n",
    "print(\"No of rows deleted:\", B - A)"
   ]
  },
  {
   "cell_type": "code",
   "execution_count": 65,
   "id": "305fe2c1-a05d-4028-8d4b-52f14280fe5a",
   "metadata": {},
   "outputs": [],
   "source": [
    "# after applying `drop.na()` we get 46 deleted rows."
   ]
  },
  {
   "cell_type": "markdown",
   "id": "1341c339-0b1e-4019-b886-9b4d3f3d672d",
   "metadata": {},
   "source": [
    "### Features of interest in the data"
   ]
  },
  {
   "cell_type": "code",
   "execution_count": 66,
   "id": "86a61242-e7ee-4b11-ba9b-36bab903b779",
   "metadata": {},
   "outputs": [],
   "source": [
    "features = ['air_pressure', 'air_temp', 'avg_wind_direction', 'avg_wind_speed', 'max_wind_direction', 'max_wind_speed', 'relative_humidity']\n",
    "select_df = sample_df[features]"
   ]
  },
  {
   "cell_type": "markdown",
   "id": "987ede65-b1f4-46b8-82ad-92d43956a50d",
   "metadata": {},
   "source": [
    "### Scale: Data Normalization (mean = 0, SD = 1)"
   ]
  },
  {
   "cell_type": "code",
   "execution_count": 67,
   "id": "f10923b1-2c8b-4be5-ab86-70080372ec3f",
   "metadata": {},
   "outputs": [],
   "source": [
    "X = StandardScaler().fit_transform(select_df)"
   ]
  },
  {
   "cell_type": "markdown",
   "id": "e078a99f-7c49-4935-aa44-25bf27821eca",
   "metadata": {},
   "source": [
    "### Apply K Means Clustering"
   ]
  },
  {
   "cell_type": "code",
   "execution_count": 68,
   "id": "e3adea94-172d-4bf9-96d3-071013753323",
   "metadata": {},
   "outputs": [
    {
     "name": "stderr",
     "output_type": "stream",
     "text": [
      "/Library/Frameworks/Python.framework/Versions/3.11/lib/python3.11/site-packages/sklearn/cluster/_kmeans.py:1416: FutureWarning: The default value of `n_init` will change from 10 to 'auto' in 1.4. Set the value of `n_init` explicitly to suppress the warning\n",
      "  super()._check_params_vs_input(X, default_n_init=10)\n"
     ]
    }
   ],
   "source": [
    "KM  = KMeans(n_clusters = 10)\n",
    "model = KM.fit(X)\n",
    "centers = model.cluster_centers_ #collect all central points of 10 clusters"
   ]
  },
  {
   "cell_type": "markdown",
   "id": "2389a111-424c-4d8d-a7cd-f6cf3c863833",
   "metadata": {},
   "source": [
    "### Data Visualization"
   ]
  },
  {
   "cell_type": "code",
   "execution_count": 69,
   "id": "3f84b3b7-3242-4d08-9795-fb1bef1c1a60",
   "metadata": {},
   "outputs": [],
   "source": [
    "# 1. Create a function that generates a dataframe with a clusters number column\n",
    "\n",
    "def pd_centers(featuresUsed, centers):\n",
    "    colNames = list(featuresUsed)\n",
    "    colNames.append('prediction')\n",
    "    Z = [np.append(A,index) for index, A in enumerate(centers)]\n",
    "    P = pd.DataFrame(Z, columns = colNames)\n",
    "    P['prediction'] = P['prediction'].astype(int)\n",
    "    return P\n",
    "\n",
    "# 2. Create a function that creates parallel plots\n",
    "\n",
    "def parallel_plots(data):\n",
    "    my_colors = list(islice(cycle['b','r','g','y','k'], None, len(data)))\n",
    "    plt.figure(figsize=(15,8)).gca().axes.set_ylim([-3,+3])\n",
    "    parallel_coordinates(data,'prediction',color = my_colors, marker = 'o')\n",
    "\n",
    "\n",
    "P = pd_centers(features, centers)"
   ]
  },
  {
   "cell_type": "markdown",
   "id": "de5dc26f-0a04-4d1c-95e1-df36ff73f2ff",
   "metadata": {},
   "source": [
    "### Visualize Warm Days"
   ]
  },
  {
   "cell_type": "code",
   "execution_count": 70,
   "id": "9bb292f0-8ea9-4d28-ae6d-2bbe18f42df1",
   "metadata": {},
   "outputs": [
    {
     "ename": "TypeError",
     "evalue": "type 'itertools.cycle' is not subscriptable",
     "output_type": "error",
     "traceback": [
      "\u001b[0;31m---------------------------------------------------------------------------\u001b[0m",
      "\u001b[0;31mTypeError\u001b[0m                                 Traceback (most recent call last)",
      "Cell \u001b[0;32mIn[70], line 1\u001b[0m\n\u001b[0;32m----> 1\u001b[0m \u001b[43mparallel_plots\u001b[49m\u001b[43m(\u001b[49m\u001b[43mP\u001b[49m\u001b[43m[\u001b[49m\u001b[43mP\u001b[49m\u001b[43m[\u001b[49m\u001b[38;5;124;43m'\u001b[39;49m\u001b[38;5;124;43mair_temp\u001b[39;49m\u001b[38;5;124;43m'\u001b[39;49m\u001b[43m]\u001b[49m\u001b[43m \u001b[49m\u001b[38;5;241;43m>\u001b[39;49m\u001b[43m \u001b[49m\u001b[38;5;241;43m0.5\u001b[39;49m\u001b[43m]\u001b[49m\u001b[43m)\u001b[49m\n",
      "Cell \u001b[0;32mIn[69], line 14\u001b[0m, in \u001b[0;36mparallel_plots\u001b[0;34m(data)\u001b[0m\n\u001b[1;32m     13\u001b[0m \u001b[38;5;28;01mdef\u001b[39;00m \u001b[38;5;21mparallel_plots\u001b[39m(data):\n\u001b[0;32m---> 14\u001b[0m     my_colors \u001b[38;5;241m=\u001b[39m \u001b[38;5;28mlist\u001b[39m(islice(\u001b[43mcycle\u001b[49m\u001b[43m[\u001b[49m\u001b[38;5;124;43m'\u001b[39;49m\u001b[38;5;124;43mb\u001b[39;49m\u001b[38;5;124;43m'\u001b[39;49m\u001b[43m,\u001b[49m\u001b[38;5;124;43m'\u001b[39;49m\u001b[38;5;124;43mr\u001b[39;49m\u001b[38;5;124;43m'\u001b[39;49m\u001b[43m,\u001b[49m\u001b[38;5;124;43m'\u001b[39;49m\u001b[38;5;124;43mg\u001b[39;49m\u001b[38;5;124;43m'\u001b[39;49m\u001b[43m,\u001b[49m\u001b[38;5;124;43m'\u001b[39;49m\u001b[38;5;124;43my\u001b[39;49m\u001b[38;5;124;43m'\u001b[39;49m\u001b[43m,\u001b[49m\u001b[38;5;124;43m'\u001b[39;49m\u001b[38;5;124;43mk\u001b[39;49m\u001b[38;5;124;43m'\u001b[39;49m\u001b[43m]\u001b[49m, \u001b[38;5;28;01mNone\u001b[39;00m, \u001b[38;5;28mlen\u001b[39m(data)))\n\u001b[1;32m     15\u001b[0m     plt\u001b[38;5;241m.\u001b[39mfigure(figsize\u001b[38;5;241m=\u001b[39m(\u001b[38;5;241m15\u001b[39m,\u001b[38;5;241m8\u001b[39m))\u001b[38;5;241m.\u001b[39mgca()\u001b[38;5;241m.\u001b[39maxes\u001b[38;5;241m.\u001b[39mset_ylim([\u001b[38;5;241m-\u001b[39m\u001b[38;5;241m3\u001b[39m,\u001b[38;5;241m+\u001b[39m\u001b[38;5;241m3\u001b[39m])\n\u001b[1;32m     16\u001b[0m     parallel_coordinates(data,\u001b[38;5;124m'\u001b[39m\u001b[38;5;124mprediction\u001b[39m\u001b[38;5;124m'\u001b[39m,color \u001b[38;5;241m=\u001b[39m my_colors, marker \u001b[38;5;241m=\u001b[39m \u001b[38;5;124m'\u001b[39m\u001b[38;5;124mo\u001b[39m\u001b[38;5;124m'\u001b[39m)\n",
      "\u001b[0;31mTypeError\u001b[0m: type 'itertools.cycle' is not subscriptable"
     ]
    }
   ],
   "source": [
    "parallel_plots(P[P['air_temp'] > 0.5])"
   ]
  },
  {
   "cell_type": "markdown",
   "id": "b1d50569-59bd-43f6-b6fc-c7945f0c7793",
   "metadata": {},
   "source": [
    "### Visualize Dry Days"
   ]
  },
  {
   "cell_type": "code",
   "execution_count": null,
   "id": "89ae52c0-5efc-4854-b9ef-419cf03be3b7",
   "metadata": {},
   "outputs": [],
   "source": [
    "parallel_plots(P[P['relative_humidity'] > -0.5])"
   ]
  },
  {
   "cell_type": "code",
   "execution_count": null,
   "id": "8de04689-c934-4aff-a46d-8f6ebb9f7a3a",
   "metadata": {},
   "outputs": [],
   "source": []
  }
 ],
 "metadata": {
  "kernelspec": {
   "display_name": "Python 3 (ipykernel)",
   "language": "python",
   "name": "python3"
  },
  "language_info": {
   "codemirror_mode": {
    "name": "ipython",
    "version": 3
   },
   "file_extension": ".py",
   "mimetype": "text/x-python",
   "name": "python",
   "nbconvert_exporter": "python",
   "pygments_lexer": "ipython3",
   "version": "3.11.5"
  }
 },
 "nbformat": 4,
 "nbformat_minor": 5
}
